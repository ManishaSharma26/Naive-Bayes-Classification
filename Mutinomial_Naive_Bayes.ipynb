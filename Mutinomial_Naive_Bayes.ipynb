{
  "cells": [
    {
      "cell_type": "code",
      "execution_count": null,
      "id": "ce3cc369",
      "metadata": {
        "scrolled": true,
        "id": "ce3cc369",
        "outputId": "a374ca63-bd52-4f28-85ad-35c900b7b753"
      },
      "outputs": [
        {
          "name": "stdout",
          "output_type": "stream",
          "text": [
            "     Buying  Maint   Door Persons Lug_Boot safety  class\n",
            "0     vhigh  vhigh      2       2    small    low  unacc\n",
            "1     vhigh  vhigh      2       2    small    med  unacc\n",
            "2     vhigh  vhigh      2       2    small   high  unacc\n",
            "3     vhigh  vhigh      2       2      med    low  unacc\n",
            "4     vhigh  vhigh      2       2      med    med  unacc\n",
            "...     ...    ...    ...     ...      ...    ...    ...\n",
            "1723    low    low  5more    more      med    med   good\n",
            "1724    low    low  5more    more      med   high  vgood\n",
            "1725    low    low  5more    more      big    low  unacc\n",
            "1726    low    low  5more    more      big    med   good\n",
            "1727    low    low  5more    more      big   high  vgood\n",
            "\n",
            "[1728 rows x 7 columns]\n"
          ]
        },
        {
          "data": {
            "text/html": [
              "<div>\n",
              "<style scoped>\n",
              "    .dataframe tbody tr th:only-of-type {\n",
              "        vertical-align: middle;\n",
              "    }\n",
              "\n",
              "    .dataframe tbody tr th {\n",
              "        vertical-align: top;\n",
              "    }\n",
              "\n",
              "    .dataframe thead th {\n",
              "        text-align: right;\n",
              "    }\n",
              "</style>\n",
              "<table border=\"1\" class=\"dataframe\">\n",
              "  <thead>\n",
              "    <tr style=\"text-align: right;\">\n",
              "      <th></th>\n",
              "      <th>Buying</th>\n",
              "      <th>Maint</th>\n",
              "      <th>Door</th>\n",
              "      <th>Persons</th>\n",
              "      <th>Lug_Boot</th>\n",
              "      <th>safety</th>\n",
              "      <th>class</th>\n",
              "    </tr>\n",
              "  </thead>\n",
              "  <tbody>\n",
              "    <tr>\n",
              "      <th>count</th>\n",
              "      <td>1728</td>\n",
              "      <td>1728</td>\n",
              "      <td>1728</td>\n",
              "      <td>1728</td>\n",
              "      <td>1728</td>\n",
              "      <td>1728</td>\n",
              "      <td>1728</td>\n",
              "    </tr>\n",
              "    <tr>\n",
              "      <th>unique</th>\n",
              "      <td>4</td>\n",
              "      <td>4</td>\n",
              "      <td>4</td>\n",
              "      <td>3</td>\n",
              "      <td>3</td>\n",
              "      <td>3</td>\n",
              "      <td>4</td>\n",
              "    </tr>\n",
              "    <tr>\n",
              "      <th>top</th>\n",
              "      <td>vhigh</td>\n",
              "      <td>vhigh</td>\n",
              "      <td>2</td>\n",
              "      <td>2</td>\n",
              "      <td>small</td>\n",
              "      <td>low</td>\n",
              "      <td>unacc</td>\n",
              "    </tr>\n",
              "    <tr>\n",
              "      <th>freq</th>\n",
              "      <td>432</td>\n",
              "      <td>432</td>\n",
              "      <td>432</td>\n",
              "      <td>576</td>\n",
              "      <td>576</td>\n",
              "      <td>576</td>\n",
              "      <td>1210</td>\n",
              "    </tr>\n",
              "  </tbody>\n",
              "</table>\n",
              "</div>"
            ],
            "text/plain": [
              "       Buying  Maint  Door Persons Lug_Boot safety  class\n",
              "count    1728   1728  1728    1728     1728   1728   1728\n",
              "unique      4      4     4       3        3      3      4\n",
              "top     vhigh  vhigh     2       2    small    low  unacc\n",
              "freq      432    432   432     576      576    576   1210"
            ]
          },
          "execution_count": 104,
          "metadata": {},
          "output_type": "execute_result"
        }
      ],
      "source": [
        "# Data from UCI car Classification\n",
        "# Import Packages\n",
        "from sklearn.naive_bayes import  MultinomialNB, GaussianNB\n",
        "from sklearn.feature_extraction.text import TfidfVectorizer, CountVectorizer\n",
        "from sklearn import metrics\n",
        "import numpy as np\n",
        "import matplotlib.pyplot as plt\n",
        "import seaborn as sns\n",
        "import pandas as pd\n",
        "\n",
        "#columns\n",
        "columns = ['Buying', 'Maint', 'Door', 'Persons', 'Lug_Boot','safety', 'class'] \n",
        "# Load the data\n",
        "df = pd.read_csv(\"https://archive.ics.uci.edu/ml/machine-learning-databases/car/car.data\",  names=columns)\n",
        "df.head()\n",
        "print(df)\n",
        "df.describe()"
      ]
    },
    {
      "cell_type": "code",
      "execution_count": null,
      "id": "5f603120",
      "metadata": {
        "id": "5f603120",
        "outputId": "bf962a54-21d1-42c0-99ed-0d70377a8cd1"
      },
      "outputs": [
        {
          "name": "stdout",
          "output_type": "stream",
          "text": [
            "[[3 3 0 0 2 1]\n",
            " [3 3 0 0 2 2]\n",
            " [3 3 0 0 2 0]\n",
            " ...\n",
            " [1 1 3 2 0 1]\n",
            " [1 1 3 2 0 2]\n",
            " [1 1 3 2 0 0]]\n",
            "(1728,)\n",
            "['unacc' 'unacc' 'unacc' ... 'unacc' 'good' 'vgood']\n"
          ]
        }
      ],
      "source": [
        "# Separate features and target  \n",
        "data = df.values\n",
        "\n",
        "X = data[:,0:6]\n",
        "print(X)\n",
        "Y = data[:,6]\n",
        "print(Y.shape)\n",
        "print(Y)"
      ]
    },
    {
      "cell_type": "code",
      "execution_count": null,
      "id": "d509fd85",
      "metadata": {
        "id": "d509fd85",
        "outputId": "43fc1ba3-46d6-4fe2-8779-48e52eef3f84"
      },
      "outputs": [
        {
          "name": "stdout",
          "output_type": "stream",
          "text": [
            "[2 2 2 ... 2 1 3]\n"
          ]
        },
        {
          "data": {
            "image/png": "[encoded data removed]",
            "text/plain": [
              "<Figure size 432x288 with 1 Axes>"
            ]
          },
          "metadata": {
            "needs_background": "light"
          },
          "output_type": "display_data"
        }
      ],
      "source": [
        "#displaying count of each class type with their name\n",
        "counts = df['class'].value_counts()\n",
        "sns.barplot(x=counts.index, y=counts)\n",
        "plt.xlabel('Class')\n",
        "plt.ylabel('Count')\n",
        "from sklearn import preprocessing\n",
        "#creating labelEncoder\n",
        "le = preprocessing.LabelEncoder()\n",
        "X[:,0]=le.fit_transform(X[:,0])\n",
        "X[:,1]=le.fit_transform(X[:,1])\n",
        "X[:,2]=le.fit_transform(X[:,2])\n",
        "X[:,3]=le.fit_transform(X[:,3])\n",
        "X[:,4]=le.fit_transform(X[:,4])\n",
        "X[:,5]=le.fit_transform(X[:,5])\n",
        "Y=le.fit_transform(Y)\n",
        "print(Y)\n",
        "\n"
      ]
    },
    {
      "cell_type": "code",
      "execution_count": null,
      "id": "4b3bb89f",
      "metadata": {
        "scrolled": false,
        "id": "4b3bb89f",
        "outputId": "e06f858b-1777-44df-bcc2-8a1a9103b8a4"
      },
      "outputs": [
        {
          "name": "stdout",
          "output_type": "stream",
          "text": [
            "[[0 2 2 0 1 1]\n",
            " [1 2 1 0 1 2]\n",
            " [0 2 2 2 0 0]\n",
            " ...\n",
            " [0 3 0 1 1 1]\n",
            " [1 0 1 1 0 1]\n",
            " [1 1 1 0 2 0]]\n",
            "['Buying', 'Maint', 'Door', 'Persons', 'Lug_Boot', 'safety', 'class']\n"
          ]
        }
      ],
      "source": [
        "# Split the data to train and test dataset.\n",
        "from sklearn.model_selection import train_test_split\n",
        "X_train, X_test, y_train, y_test = train_test_split(X, Y, test_size=0.2)\n",
        "print(X_train)\n",
        "print(columns)\n"
      ]
    },
    {
      "cell_type": "code",
      "execution_count": null,
      "id": "e819fc40",
      "metadata": {
        "id": "e819fc40",
        "outputId": "d04a4215-0e42-4553-808a-394e7fe81404"
      },
      "outputs": [
        {
          "name": "stdout",
          "output_type": "stream",
          "text": [
            "Accuracy: 0.708092485549133\n"
          ]
        }
      ],
      "source": [
        "mnb = MultinomialNB()\n",
        "\n",
        "mnb.fit(X_train, y_train)\n",
        "#Predict the response for test dataset\n",
        "y_pred = mnb.predict(X_test)\n",
        "print(\"Accuracy:\",metrics.accuracy_score(y_test, y_pred))\n"
      ]
    },
    {
      "cell_type": "code",
      "execution_count": null,
      "id": "090fdaee",
      "metadata": {
        "scrolled": true,
        "id": "090fdaee",
        "outputId": "1f1a2931-6ca2-49a7-ec41-ff71c242c8d7"
      },
      "outputs": [
        {
          "name": "stdout",
          "output_type": "stream",
          "text": [
            "Accuracy: 0.6907514450867052\n"
          ]
        }
      ],
      "source": [
        "#Import scikit-learn metrics module for accuracy calculation\n",
        "from sklearn import metrics\n",
        "\n",
        "# Model Accuracy, how often is the classifier correct?\n",
        "print(\"Accuracy:\",metrics.accuracy_score(y_test, y_pred))\n"
      ]
    },
    {
      "cell_type": "code",
      "execution_count": null,
      "id": "25ce3468",
      "metadata": {
        "id": "25ce3468"
      },
      "outputs": [],
      "source": [
        "\n",
        "#Import Gaussian Naive Bayes model\n",
        "from sklearn.naive_bayes import GaussianNB\n",
        "#Create a Gaussian Classifier\n",
        "gnb = GaussianNB()\n",
        "\n",
        "#Train the model using the training sets\n",
        "gnb.fit(X_train, y_train)\n",
        "\n",
        "\n",
        "#Predict the response for test dataset\n",
        "y_pred = gnb.predict(X_test)\n"
      ]
    },
    {
      "cell_type": "code",
      "execution_count": null,
      "id": "9a1f52c2",
      "metadata": {
        "id": "9a1f52c2",
        "outputId": "b17fd03e-01c2-46ad-8e6f-d941a3e76c1a"
      },
      "outputs": [
        {
          "name": "stdout",
          "output_type": "stream",
          "text": [
            "Accuracy: 0.6319845857418112\n"
          ]
        }
      ],
      "source": [
        "\n",
        "\n",
        "# Model Accuracy, how often is the classifier correct?\n",
        "print(\"Accuracy:\",metrics.accuracy_score(y_test, y_pred))"
      ]
    }
  ],
  "metadata": {
    "kernelspec": {
      "display_name": "Python 3 (ipykernel)",
      "language": "python",
      "name": "python3"
    },
    "language_info": {
      "codemirror_mode": {
        "name": "ipython",
        "version": 3
      },
      "file_extension": ".py",
      "mimetype": "text/x-python",
      "name": "python",
      "nbconvert_exporter": "python",
      "pygments_lexer": "ipython3",
      "version": "3.9.7"
    },
    "colab": {
      "name": "Labassignment1_MN_Manisha.ipynb",
      "provenance": []
    }
  },
  "nbformat": 4,
  "nbformat_minor": 5
}